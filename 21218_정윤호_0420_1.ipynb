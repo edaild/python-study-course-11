{
 "cells": [
  {
   "cell_type": "markdown",
   "id": "ebd253cd",
   "metadata": {},
   "source": [
    "21218_정윤호_0420_1"
   ]
  },
  {
   "cell_type": "code",
   "execution_count": 2,
   "id": "2ef1f689",
   "metadata": {},
   "outputs": [
    {
     "name": "stdout",
     "output_type": "stream",
     "text": [
      "1부터 n까지 정수의 합을 구합니다.\n",
      "n값은 입력하세요. 5\n",
      "1부터 5까지 정수의 합은 15입니다.\n"
     ]
    }
   ],
   "source": [
    "#문제1 1부터 n 까지 정수의 합을 구해 봅시다. for문\n",
    "\n",
    "print('1부터 n까지 정수의 합을 구합니다.')\n",
    "\n",
    "n = int(input('n값은 입력하세요. '))\n",
    "\n",
    "sum = 0 # 누적값을 저장할 변수 지정, 초기화\n",
    "\n",
    "for i in range(1, n+1):\n",
    "    sum += i \n",
    "    \n",
    "print(f'1부터 {n}까지 정수의 합은 {sum}입니다.')    "
   ]
  },
  {
   "cell_type": "code",
   "execution_count": 3,
   "id": "9ae337c7",
   "metadata": {},
   "outputs": [
    {
     "name": "stdout",
     "output_type": "stream",
     "text": [
      "1부터 n까지 정수의 합을 구합니다.\n",
      "n값은 입력하세요. 5\n",
      "1부터 5까지 정수의 합은 15입니다.\n"
     ]
    }
   ],
   "source": [
    "#문제1 1부터 n 까지 정수의 합을 구해 봅시다. while문\n",
    "\n",
    "print('1부터 n까지 정수의 합을 구합니다.')\n",
    "\n",
    "n = int(input('n값은 입력하세요. '))\n",
    "\n",
    "sum = 0 # 누적값을 저장할 변수 지정, 초기화\n",
    "i = 1\n",
    "\n",
    "while i <= n : # i가 n보다 작거나 같은 동안 반복\n",
    "    sum += i # sum은 증가하는 i값 만큼 누적\n",
    "    i += 1 # i가 증가 1만큼\n",
    "\n",
    "    \n",
    "print(f'1부터 {n}까지 정수의 합은 {sum}입니다.')    "
   ]
  },
  {
   "cell_type": "code",
   "execution_count": 13,
   "id": "57315aa0",
   "metadata": {},
   "outputs": [
    {
     "name": "stdout",
     "output_type": "stream",
     "text": [
      "a부터 b까지 정수의 합을 구합니다.\n",
      "a값을 입력하세요.3\n",
      "b값을 입력하세요.7\n",
      "3 + 4 + 5 + 6 + 7 =  25\n"
     ]
    }
   ],
   "source": [
    "#무제 2  a부터 b까지 정수의 합을 구해 봅시다. for\n",
    "# b값이 크게 들어오면 a,b값을 바꾸줘야 합니다.\n",
    "# a,b = b,a\n",
    "print('a부터 b까지 정수의 합을 구합니다.')\n",
    "#입력부분 \n",
    "a = int(input('a값을 입력하세요.'))\n",
    "b = int(input('b값을 입력하세요.'))\n",
    "\n",
    "# a값 b값을 비교\n",
    "if a > b:\n",
    "    a,b = b,a\n",
    "\n",
    "sum = 0\n",
    "for i in range(a, b+1):\n",
    "    if i < b :\n",
    "        print(f'{i} +',end=' ')\n",
    "    else : \n",
    "        print(f'{i} = ', end=' ')\n",
    "    sum += i\n",
    "\n",
    "print(sum)"
   ]
  },
  {
   "cell_type": "code",
   "execution_count": null,
   "id": "725c06f4",
   "metadata": {},
   "outputs": [],
   "source": []
  }
 ],
 "metadata": {
  "kernelspec": {
   "display_name": "Python 3 (ipykernel)",
   "language": "python",
   "name": "python3"
  },
  "language_info": {
   "codemirror_mode": {
    "name": "ipython",
    "version": 3
   },
   "file_extension": ".py",
   "mimetype": "text/x-python",
   "name": "python",
   "nbconvert_exporter": "python",
   "pygments_lexer": "ipython3",
   "version": "3.9.7"
  }
 },
 "nbformat": 4,
 "nbformat_minor": 5
}
